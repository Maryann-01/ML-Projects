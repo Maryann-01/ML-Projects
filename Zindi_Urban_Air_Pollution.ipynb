{
  "nbformat": 4,
  "nbformat_minor": 0,
  "metadata": {
    "colab": {
      "provenance": [],
      "authorship_tag": "ABX9TyM6YDdJv7dyR+kll7q2I4qm"
    },
    "kernelspec": {
      "name": "python3",
      "display_name": "Python 3"
    },
    "language_info": {
      "name": "python"
    }
  },
  "cells": [
    {
      "cell_type": "code",
      "execution_count": 1,
      "metadata": {
        "id": "oRLlE5zZ4Hj9"
      },
      "outputs": [],
      "source": [
        "# Importing libraries\n",
        "import numpy as np\n",
        "import pandas as pd\n",
        "import matplotlib.pyplot as plt\n",
        "from sklearn.base import BaseEstimator, TransformerMixin\n",
        "from sklearn.preprocessing import OneHotEncoder\n",
        "from sklearn.compose import ColumnTransformer\n",
        "import seaborn as sns\n",
        "from sklearn.impute import SimpleImputer\n",
        "from sklearn.linear_model import LinearRegression\n",
        "from sklearn.preprocessing import StandardScaler\n",
        "from sklearn.pipeline import Pipeline\n",
        "from sklearn.metrics import mean_squared_error"
      ]
    },
    {
      "cell_type": "markdown",
      "source": [
        "Create Wrangle function"
      ],
      "metadata": {
        "id": "yFK_hMHS6jp_"
      }
    },
    {
      "cell_type": "code",
      "source": [
        "def wrangle(filepath):\n",
        "  df=pd.read_csv(filepath)\n",
        "\n",
        "  place_date = df['Place_ID X Date'].copy()\n",
        "\n",
        "  df = df.drop(columns=['Place_ID X Date','Place_ID'])\n",
        "\n",
        "  # Dropping columns with more than 50% missing values\n",
        "  missing_val_per=df.isna().sum()/len(df)\n",
        "  columns_to_drop=missing_val_per[missing_val_per>=0.5].index\n",
        "  df.drop(columns=columns_to_drop,inplace=True)\n",
        "\n",
        "  # Dropping columns that leak info about the target value\n",
        "  df.drop(columns=[\"target_min\",\"target_max\",\"target_variance\",\"target_count\"], errors='ignore',inplace=True)\n",
        "\n",
        "  # Dropping columns that have high collinearity\n",
        "  df.drop(columns=['L3_HCHO_sensor_zenith_angle', 'L3_O3_sensor_azimuth_angle', 'L3_AER_AI_sensor_zenith_angle', 'L3_CLOUD_solar_azimuth_angle', 'L3_SO2_solar_azimuth_angle', 'L3_O3_cloud_fraction', 'L3_CO_sensor_zenith_angle', 'L3_NO2_sensor_azimuth_angle', 'L3_SO2_sensor_zenith_angle', 'L3_CLOUD_cloud_top_height', 'L3_CO_sensor_azimuth_angle', 'L3_O3_solar_zenith_angle', 'L3_CLOUD_sensor_azimuth_angle', 'L3_AER_AI_sensor_azimuth_angle', 'L3_HCHO_cloud_fraction', 'L3_SO2_solar_zenith_angle', 'L3_NO2_tropospheric_NO2_column_number_density', 'L3_CLOUD_sensor_zenith_angle', 'L3_CLOUD_solar_zenith_angle', 'L3_HCHO_sensor_azimuth_angle', 'L3_CLOUD_cloud_base_height', 'L3_CO_solar_zenith_angle', 'L3_O3_solar_azimuth_angle', 'L3_CLOUD_cloud_base_pressure', 'L3_HCHO_solar_zenith_angle'], inplace=True)\n",
        "\n",
        "  return df"
      ],
      "metadata": {
        "id": "0k7IQwFd8Lj5"
      },
      "execution_count": 2,
      "outputs": []
    },
    {
      "cell_type": "code",
      "source": [
        "train_data=wrangle(\"/content/Train.csv\")"
      ],
      "metadata": {
        "id": "JBTzzTsx8QQP"
      },
      "execution_count": 3,
      "outputs": []
    },
    {
      "cell_type": "markdown",
      "source": [
        "Dropping columns with >50% missing values"
      ],
      "metadata": {
        "id": "I8ArfB6-HcaB"
      }
    },
    {
      "cell_type": "code",
      "source": [
        "# train_data.isna().sum().sort_values(ascending=False)\n",
        "# len(train_data)\n",
        "missing_val_per=train_data.isna().sum()/len(train_data)\n",
        "missing_val_per.tail(30)\n",
        "columns_to_drop=missing_val_per[missing_val_per>=0.5]\n",
        "columns_to_drop"
      ],
      "metadata": {
        "id": "qm8DSjtg8eVc",
        "colab": {
          "base_uri": "https://localhost:8080/",
          "height": 84
        },
        "outputId": "c1e3f8ae-29db-4600-a839-c8849d51e00e"
      },
      "execution_count": 4,
      "outputs": [
        {
          "output_type": "execute_result",
          "data": {
            "text/plain": [
              "Series([], dtype: float64)"
            ],
            "text/html": [
              "<div>\n",
              "<style scoped>\n",
              "    .dataframe tbody tr th:only-of-type {\n",
              "        vertical-align: middle;\n",
              "    }\n",
              "\n",
              "    .dataframe tbody tr th {\n",
              "        vertical-align: top;\n",
              "    }\n",
              "\n",
              "    .dataframe thead th {\n",
              "        text-align: right;\n",
              "    }\n",
              "</style>\n",
              "<table border=\"1\" class=\"dataframe\">\n",
              "  <thead>\n",
              "    <tr style=\"text-align: right;\">\n",
              "      <th></th>\n",
              "      <th>0</th>\n",
              "    </tr>\n",
              "  </thead>\n",
              "  <tbody>\n",
              "  </tbody>\n",
              "</table>\n",
              "</div><br><label><b>dtype:</b> float64</label>"
            ]
          },
          "metadata": {},
          "execution_count": 4
        }
      ]
    },
    {
      "cell_type": "code",
      "source": [
        "# Creating a customer transformer for the date column\n",
        "class DateFeatureExtractor(BaseEstimator, TransformerMixin):\n",
        "    def __init__(self):\n",
        "        pass\n",
        "\n",
        "    def fit(self, X, y=None):\n",
        "        return self\n",
        "\n",
        "    def transform(self, X):\n",
        "        X = X.copy()\n",
        "        X['Date'] = pd.to_datetime(X['Date'])\n",
        "\n",
        "\n",
        "        X['year'] = X['Date'].dt.year\n",
        "        X['month'] = X['Date'].dt.month\n",
        "        X['dayofweek'] = X['Date'].dt.dayofweek\n",
        "        X['days_since_start'] = (X['Date'] - X['Date'].min()).dt.days\n",
        "\n",
        "        # Optionally drop the original 'Date' column and drop the year column because it is the same year all through(low-cardinality)\n",
        "        X = X.drop(columns=['Date', \"year\", \"days_since_start\"])\n",
        "\n",
        "        return X\n"
      ],
      "metadata": {
        "id": "63dJbId8PYRn"
      },
      "execution_count": 5,
      "outputs": []
    },
    {
      "cell_type": "code",
      "source": [
        "X_train= train_data.drop('target', axis=1)\n",
        "y_train = train_data['target']"
      ],
      "metadata": {
        "id": "cyjfFqHmp5QL"
      },
      "execution_count": 6,
      "outputs": []
    },
    {
      "cell_type": "code",
      "source": [
        "# Initializing the transformer\n",
        "date_feature_extractor = DateFeatureExtractor()\n",
        "X_train_transformed = date_feature_extractor.transform(X_train)\n",
        "X_train_transformed.head()\n"
      ],
      "metadata": {
        "colab": {
          "base_uri": "https://localhost:8080/",
          "height": 255
        },
        "id": "xzHeE4-O2cJ1",
        "outputId": "fdd5a964-9f72-4d0b-fd0c-22bfd4330c5f"
      },
      "execution_count": 7,
      "outputs": [
        {
          "output_type": "execute_result",
          "data": {
            "text/plain": [
              "   precipitable_water_entire_atmosphere  relative_humidity_2m_above_ground  \\\n",
              "0                             11.000000                          60.200001   \n",
              "1                             14.600000                          48.799999   \n",
              "2                             16.400000                          33.400002   \n",
              "3                              6.911948                          21.300001   \n",
              "4                             13.900001                          44.700001   \n",
              "\n",
              "   specific_humidity_2m_above_ground  temperature_2m_above_ground  \\\n",
              "0                            0.00804                    18.516840   \n",
              "1                            0.00839                    22.546533   \n",
              "2                            0.00750                    27.031030   \n",
              "3                            0.00391                    23.971857   \n",
              "4                            0.00535                    16.816309   \n",
              "\n",
              "   u_component_of_wind_10m_above_ground  v_component_of_wind_10m_above_ground  \\\n",
              "0                              1.996377                             -1.227395   \n",
              "1                              3.330430                             -1.188108   \n",
              "2                              5.065727                              3.500559   \n",
              "3                              3.004001                              1.099468   \n",
              "4                              2.621787                              2.670559   \n",
              "\n",
              "   L3_NO2_NO2_column_number_density  L3_NO2_NO2_slant_column_number_density  \\\n",
              "0                          0.000074                                0.000156   \n",
              "1                          0.000076                                0.000197   \n",
              "2                          0.000067                                0.000170   \n",
              "3                          0.000083                                0.000175   \n",
              "4                          0.000070                                0.000142   \n",
              "\n",
              "   L3_NO2_absorbing_aerosol_index  L3_NO2_cloud_fraction  ...  \\\n",
              "0                       -1.231330               0.006507  ...   \n",
              "1                       -1.082553               0.018360  ...   \n",
              "2                       -1.001242               0.015904  ...   \n",
              "3                       -0.777019               0.055765  ...   \n",
              "4                        0.366323               0.028530  ...   \n",
              "\n",
              "   L3_AER_AI_solar_azimuth_angle  L3_AER_AI_solar_zenith_angle  \\\n",
              "0                     -61.736719                     22.358167   \n",
              "1                     -67.693509                     28.614804   \n",
              "2                     -78.342701                     34.296977   \n",
              "3                     -73.896572                     30.545393   \n",
              "4                     -68.612480                     26.899694   \n",
              "\n",
              "   L3_SO2_SO2_column_number_density  L3_SO2_SO2_column_number_density_amf  \\\n",
              "0                         -0.000127                              0.312521   \n",
              "1                          0.000150                              0.433957   \n",
              "2                          0.000150                              0.356925   \n",
              "3                          0.000227                              0.584522   \n",
              "4                          0.000390                              0.408047   \n",
              "\n",
              "   L3_SO2_SO2_slant_column_number_density  L3_SO2_absorbing_aerosol_index  \\\n",
              "0                               -0.000040                       -1.861476   \n",
              "1                                0.000050                       -1.452612   \n",
              "2                                0.000053                       -1.572950   \n",
              "3                                0.000110                       -1.239317   \n",
              "4                                0.000159                        0.202489   \n",
              "\n",
              "   L3_SO2_cloud_fraction  L3_SO2_sensor_azimuth_angle  month  dayofweek  \n",
              "0               0.000000                    76.536426      1          3  \n",
              "1               0.059433                   -14.708036      1          4  \n",
              "2               0.082063                  -105.201338      1          5  \n",
              "3               0.121261                  -104.334066      1          6  \n",
              "4               0.037919                    58.850179      1          0  \n",
              "\n",
              "[5 rows x 44 columns]"
            ],
            "text/html": [
              "\n",
              "  <div id=\"df-4f6ad299-3412-462a-921c-c2e5a7741d85\" class=\"colab-df-container\">\n",
              "    <div>\n",
              "<style scoped>\n",
              "    .dataframe tbody tr th:only-of-type {\n",
              "        vertical-align: middle;\n",
              "    }\n",
              "\n",
              "    .dataframe tbody tr th {\n",
              "        vertical-align: top;\n",
              "    }\n",
              "\n",
              "    .dataframe thead th {\n",
              "        text-align: right;\n",
              "    }\n",
              "</style>\n",
              "<table border=\"1\" class=\"dataframe\">\n",
              "  <thead>\n",
              "    <tr style=\"text-align: right;\">\n",
              "      <th></th>\n",
              "      <th>precipitable_water_entire_atmosphere</th>\n",
              "      <th>relative_humidity_2m_above_ground</th>\n",
              "      <th>specific_humidity_2m_above_ground</th>\n",
              "      <th>temperature_2m_above_ground</th>\n",
              "      <th>u_component_of_wind_10m_above_ground</th>\n",
              "      <th>v_component_of_wind_10m_above_ground</th>\n",
              "      <th>L3_NO2_NO2_column_number_density</th>\n",
              "      <th>L3_NO2_NO2_slant_column_number_density</th>\n",
              "      <th>L3_NO2_absorbing_aerosol_index</th>\n",
              "      <th>L3_NO2_cloud_fraction</th>\n",
              "      <th>...</th>\n",
              "      <th>L3_AER_AI_solar_azimuth_angle</th>\n",
              "      <th>L3_AER_AI_solar_zenith_angle</th>\n",
              "      <th>L3_SO2_SO2_column_number_density</th>\n",
              "      <th>L3_SO2_SO2_column_number_density_amf</th>\n",
              "      <th>L3_SO2_SO2_slant_column_number_density</th>\n",
              "      <th>L3_SO2_absorbing_aerosol_index</th>\n",
              "      <th>L3_SO2_cloud_fraction</th>\n",
              "      <th>L3_SO2_sensor_azimuth_angle</th>\n",
              "      <th>month</th>\n",
              "      <th>dayofweek</th>\n",
              "    </tr>\n",
              "  </thead>\n",
              "  <tbody>\n",
              "    <tr>\n",
              "      <th>0</th>\n",
              "      <td>11.000000</td>\n",
              "      <td>60.200001</td>\n",
              "      <td>0.00804</td>\n",
              "      <td>18.516840</td>\n",
              "      <td>1.996377</td>\n",
              "      <td>-1.227395</td>\n",
              "      <td>0.000074</td>\n",
              "      <td>0.000156</td>\n",
              "      <td>-1.231330</td>\n",
              "      <td>0.006507</td>\n",
              "      <td>...</td>\n",
              "      <td>-61.736719</td>\n",
              "      <td>22.358167</td>\n",
              "      <td>-0.000127</td>\n",
              "      <td>0.312521</td>\n",
              "      <td>-0.000040</td>\n",
              "      <td>-1.861476</td>\n",
              "      <td>0.000000</td>\n",
              "      <td>76.536426</td>\n",
              "      <td>1</td>\n",
              "      <td>3</td>\n",
              "    </tr>\n",
              "    <tr>\n",
              "      <th>1</th>\n",
              "      <td>14.600000</td>\n",
              "      <td>48.799999</td>\n",
              "      <td>0.00839</td>\n",
              "      <td>22.546533</td>\n",
              "      <td>3.330430</td>\n",
              "      <td>-1.188108</td>\n",
              "      <td>0.000076</td>\n",
              "      <td>0.000197</td>\n",
              "      <td>-1.082553</td>\n",
              "      <td>0.018360</td>\n",
              "      <td>...</td>\n",
              "      <td>-67.693509</td>\n",
              "      <td>28.614804</td>\n",
              "      <td>0.000150</td>\n",
              "      <td>0.433957</td>\n",
              "      <td>0.000050</td>\n",
              "      <td>-1.452612</td>\n",
              "      <td>0.059433</td>\n",
              "      <td>-14.708036</td>\n",
              "      <td>1</td>\n",
              "      <td>4</td>\n",
              "    </tr>\n",
              "    <tr>\n",
              "      <th>2</th>\n",
              "      <td>16.400000</td>\n",
              "      <td>33.400002</td>\n",
              "      <td>0.00750</td>\n",
              "      <td>27.031030</td>\n",
              "      <td>5.065727</td>\n",
              "      <td>3.500559</td>\n",
              "      <td>0.000067</td>\n",
              "      <td>0.000170</td>\n",
              "      <td>-1.001242</td>\n",
              "      <td>0.015904</td>\n",
              "      <td>...</td>\n",
              "      <td>-78.342701</td>\n",
              "      <td>34.296977</td>\n",
              "      <td>0.000150</td>\n",
              "      <td>0.356925</td>\n",
              "      <td>0.000053</td>\n",
              "      <td>-1.572950</td>\n",
              "      <td>0.082063</td>\n",
              "      <td>-105.201338</td>\n",
              "      <td>1</td>\n",
              "      <td>5</td>\n",
              "    </tr>\n",
              "    <tr>\n",
              "      <th>3</th>\n",
              "      <td>6.911948</td>\n",
              "      <td>21.300001</td>\n",
              "      <td>0.00391</td>\n",
              "      <td>23.971857</td>\n",
              "      <td>3.004001</td>\n",
              "      <td>1.099468</td>\n",
              "      <td>0.000083</td>\n",
              "      <td>0.000175</td>\n",
              "      <td>-0.777019</td>\n",
              "      <td>0.055765</td>\n",
              "      <td>...</td>\n",
              "      <td>-73.896572</td>\n",
              "      <td>30.545393</td>\n",
              "      <td>0.000227</td>\n",
              "      <td>0.584522</td>\n",
              "      <td>0.000110</td>\n",
              "      <td>-1.239317</td>\n",
              "      <td>0.121261</td>\n",
              "      <td>-104.334066</td>\n",
              "      <td>1</td>\n",
              "      <td>6</td>\n",
              "    </tr>\n",
              "    <tr>\n",
              "      <th>4</th>\n",
              "      <td>13.900001</td>\n",
              "      <td>44.700001</td>\n",
              "      <td>0.00535</td>\n",
              "      <td>16.816309</td>\n",
              "      <td>2.621787</td>\n",
              "      <td>2.670559</td>\n",
              "      <td>0.000070</td>\n",
              "      <td>0.000142</td>\n",
              "      <td>0.366323</td>\n",
              "      <td>0.028530</td>\n",
              "      <td>...</td>\n",
              "      <td>-68.612480</td>\n",
              "      <td>26.899694</td>\n",
              "      <td>0.000390</td>\n",
              "      <td>0.408047</td>\n",
              "      <td>0.000159</td>\n",
              "      <td>0.202489</td>\n",
              "      <td>0.037919</td>\n",
              "      <td>58.850179</td>\n",
              "      <td>1</td>\n",
              "      <td>0</td>\n",
              "    </tr>\n",
              "  </tbody>\n",
              "</table>\n",
              "<p>5 rows × 44 columns</p>\n",
              "</div>\n",
              "    <div class=\"colab-df-buttons\">\n",
              "\n",
              "  <div class=\"colab-df-container\">\n",
              "    <button class=\"colab-df-convert\" onclick=\"convertToInteractive('df-4f6ad299-3412-462a-921c-c2e5a7741d85')\"\n",
              "            title=\"Convert this dataframe to an interactive table.\"\n",
              "            style=\"display:none;\">\n",
              "\n",
              "  <svg xmlns=\"http://www.w3.org/2000/svg\" height=\"24px\" viewBox=\"0 -960 960 960\">\n",
              "    <path d=\"M120-120v-720h720v720H120Zm60-500h600v-160H180v160Zm220 220h160v-160H400v160Zm0 220h160v-160H400v160ZM180-400h160v-160H180v160Zm440 0h160v-160H620v160ZM180-180h160v-160H180v160Zm440 0h160v-160H620v160Z\"/>\n",
              "  </svg>\n",
              "    </button>\n",
              "\n",
              "  <style>\n",
              "    .colab-df-container {\n",
              "      display:flex;\n",
              "      gap: 12px;\n",
              "    }\n",
              "\n",
              "    .colab-df-convert {\n",
              "      background-color: #E8F0FE;\n",
              "      border: none;\n",
              "      border-radius: 50%;\n",
              "      cursor: pointer;\n",
              "      display: none;\n",
              "      fill: #1967D2;\n",
              "      height: 32px;\n",
              "      padding: 0 0 0 0;\n",
              "      width: 32px;\n",
              "    }\n",
              "\n",
              "    .colab-df-convert:hover {\n",
              "      background-color: #E2EBFA;\n",
              "      box-shadow: 0px 1px 2px rgba(60, 64, 67, 0.3), 0px 1px 3px 1px rgba(60, 64, 67, 0.15);\n",
              "      fill: #174EA6;\n",
              "    }\n",
              "\n",
              "    .colab-df-buttons div {\n",
              "      margin-bottom: 4px;\n",
              "    }\n",
              "\n",
              "    [theme=dark] .colab-df-convert {\n",
              "      background-color: #3B4455;\n",
              "      fill: #D2E3FC;\n",
              "    }\n",
              "\n",
              "    [theme=dark] .colab-df-convert:hover {\n",
              "      background-color: #434B5C;\n",
              "      box-shadow: 0px 1px 3px 1px rgba(0, 0, 0, 0.15);\n",
              "      filter: drop-shadow(0px 1px 2px rgba(0, 0, 0, 0.3));\n",
              "      fill: #FFFFFF;\n",
              "    }\n",
              "  </style>\n",
              "\n",
              "    <script>\n",
              "      const buttonEl =\n",
              "        document.querySelector('#df-4f6ad299-3412-462a-921c-c2e5a7741d85 button.colab-df-convert');\n",
              "      buttonEl.style.display =\n",
              "        google.colab.kernel.accessAllowed ? 'block' : 'none';\n",
              "\n",
              "      async function convertToInteractive(key) {\n",
              "        const element = document.querySelector('#df-4f6ad299-3412-462a-921c-c2e5a7741d85');\n",
              "        const dataTable =\n",
              "          await google.colab.kernel.invokeFunction('convertToInteractive',\n",
              "                                                    [key], {});\n",
              "        if (!dataTable) return;\n",
              "\n",
              "        const docLinkHtml = 'Like what you see? Visit the ' +\n",
              "          '<a target=\"_blank\" href=https://colab.research.google.com/notebooks/data_table.ipynb>data table notebook</a>'\n",
              "          + ' to learn more about interactive tables.';\n",
              "        element.innerHTML = '';\n",
              "        dataTable['output_type'] = 'display_data';\n",
              "        await google.colab.output.renderOutput(dataTable, element);\n",
              "        const docLink = document.createElement('div');\n",
              "        docLink.innerHTML = docLinkHtml;\n",
              "        element.appendChild(docLink);\n",
              "      }\n",
              "    </script>\n",
              "  </div>\n",
              "\n",
              "\n",
              "    <div id=\"df-d5542f46-1226-415f-a425-b0874254d6e5\">\n",
              "      <button class=\"colab-df-quickchart\" onclick=\"quickchart('df-d5542f46-1226-415f-a425-b0874254d6e5')\"\n",
              "                title=\"Suggest charts\"\n",
              "                style=\"display:none;\">\n",
              "\n",
              "<svg xmlns=\"http://www.w3.org/2000/svg\" height=\"24px\"viewBox=\"0 0 24 24\"\n",
              "     width=\"24px\">\n",
              "    <g>\n",
              "        <path d=\"M19 3H5c-1.1 0-2 .9-2 2v14c0 1.1.9 2 2 2h14c1.1 0 2-.9 2-2V5c0-1.1-.9-2-2-2zM9 17H7v-7h2v7zm4 0h-2V7h2v10zm4 0h-2v-4h2v4z\"/>\n",
              "    </g>\n",
              "</svg>\n",
              "      </button>\n",
              "\n",
              "<style>\n",
              "  .colab-df-quickchart {\n",
              "      --bg-color: #E8F0FE;\n",
              "      --fill-color: #1967D2;\n",
              "      --hover-bg-color: #E2EBFA;\n",
              "      --hover-fill-color: #174EA6;\n",
              "      --disabled-fill-color: #AAA;\n",
              "      --disabled-bg-color: #DDD;\n",
              "  }\n",
              "\n",
              "  [theme=dark] .colab-df-quickchart {\n",
              "      --bg-color: #3B4455;\n",
              "      --fill-color: #D2E3FC;\n",
              "      --hover-bg-color: #434B5C;\n",
              "      --hover-fill-color: #FFFFFF;\n",
              "      --disabled-bg-color: #3B4455;\n",
              "      --disabled-fill-color: #666;\n",
              "  }\n",
              "\n",
              "  .colab-df-quickchart {\n",
              "    background-color: var(--bg-color);\n",
              "    border: none;\n",
              "    border-radius: 50%;\n",
              "    cursor: pointer;\n",
              "    display: none;\n",
              "    fill: var(--fill-color);\n",
              "    height: 32px;\n",
              "    padding: 0;\n",
              "    width: 32px;\n",
              "  }\n",
              "\n",
              "  .colab-df-quickchart:hover {\n",
              "    background-color: var(--hover-bg-color);\n",
              "    box-shadow: 0 1px 2px rgba(60, 64, 67, 0.3), 0 1px 3px 1px rgba(60, 64, 67, 0.15);\n",
              "    fill: var(--button-hover-fill-color);\n",
              "  }\n",
              "\n",
              "  .colab-df-quickchart-complete:disabled,\n",
              "  .colab-df-quickchart-complete:disabled:hover {\n",
              "    background-color: var(--disabled-bg-color);\n",
              "    fill: var(--disabled-fill-color);\n",
              "    box-shadow: none;\n",
              "  }\n",
              "\n",
              "  .colab-df-spinner {\n",
              "    border: 2px solid var(--fill-color);\n",
              "    border-color: transparent;\n",
              "    border-bottom-color: var(--fill-color);\n",
              "    animation:\n",
              "      spin 1s steps(1) infinite;\n",
              "  }\n",
              "\n",
              "  @keyframes spin {\n",
              "    0% {\n",
              "      border-color: transparent;\n",
              "      border-bottom-color: var(--fill-color);\n",
              "      border-left-color: var(--fill-color);\n",
              "    }\n",
              "    20% {\n",
              "      border-color: transparent;\n",
              "      border-left-color: var(--fill-color);\n",
              "      border-top-color: var(--fill-color);\n",
              "    }\n",
              "    30% {\n",
              "      border-color: transparent;\n",
              "      border-left-color: var(--fill-color);\n",
              "      border-top-color: var(--fill-color);\n",
              "      border-right-color: var(--fill-color);\n",
              "    }\n",
              "    40% {\n",
              "      border-color: transparent;\n",
              "      border-right-color: var(--fill-color);\n",
              "      border-top-color: var(--fill-color);\n",
              "    }\n",
              "    60% {\n",
              "      border-color: transparent;\n",
              "      border-right-color: var(--fill-color);\n",
              "    }\n",
              "    80% {\n",
              "      border-color: transparent;\n",
              "      border-right-color: var(--fill-color);\n",
              "      border-bottom-color: var(--fill-color);\n",
              "    }\n",
              "    90% {\n",
              "      border-color: transparent;\n",
              "      border-bottom-color: var(--fill-color);\n",
              "    }\n",
              "  }\n",
              "</style>\n",
              "\n",
              "      <script>\n",
              "        async function quickchart(key) {\n",
              "          const quickchartButtonEl =\n",
              "            document.querySelector('#' + key + ' button');\n",
              "          quickchartButtonEl.disabled = true;  // To prevent multiple clicks.\n",
              "          quickchartButtonEl.classList.add('colab-df-spinner');\n",
              "          try {\n",
              "            const charts = await google.colab.kernel.invokeFunction(\n",
              "                'suggestCharts', [key], {});\n",
              "          } catch (error) {\n",
              "            console.error('Error during call to suggestCharts:', error);\n",
              "          }\n",
              "          quickchartButtonEl.classList.remove('colab-df-spinner');\n",
              "          quickchartButtonEl.classList.add('colab-df-quickchart-complete');\n",
              "        }\n",
              "        (() => {\n",
              "          let quickchartButtonEl =\n",
              "            document.querySelector('#df-d5542f46-1226-415f-a425-b0874254d6e5 button');\n",
              "          quickchartButtonEl.style.display =\n",
              "            google.colab.kernel.accessAllowed ? 'block' : 'none';\n",
              "        })();\n",
              "      </script>\n",
              "    </div>\n",
              "\n",
              "    </div>\n",
              "  </div>\n"
            ],
            "application/vnd.google.colaboratory.intrinsic+json": {
              "type": "dataframe",
              "variable_name": "X_train_transformed"
            }
          },
          "metadata": {},
          "execution_count": 7
        }
      ]
    },
    {
      "cell_type": "markdown",
      "source": [
        "Copying Place_ID x Date for submission"
      ],
      "metadata": {
        "id": "-CSBhmXQY_WS"
      }
    },
    {
      "cell_type": "code",
      "source": [
        "test_raw = pd.read_csv(\"/content/Test.csv\")\n",
        "place_date = test_raw[\"Place_ID X Date\"].copy()\n",
        "place_date"
      ],
      "metadata": {
        "colab": {
          "base_uri": "https://localhost:8080/",
          "height": 458
        },
        "id": "jaL_enjvY6BY",
        "outputId": "e58be357-c22a-4d7d-f612-a70b4f65625c"
      },
      "execution_count": 9,
      "outputs": [
        {
          "output_type": "execute_result",
          "data": {
            "text/plain": [
              "0        0OS9LVX X 2020-01-02\n",
              "1        0OS9LVX X 2020-01-03\n",
              "2        0OS9LVX X 2020-01-04\n",
              "3        0OS9LVX X 2020-01-05\n",
              "4        0OS9LVX X 2020-01-06\n",
              "                 ...         \n",
              "16131    ZZDJZMS X 2020-03-31\n",
              "16132    ZZDJZMS X 2020-04-01\n",
              "16133    ZZDJZMS X 2020-04-02\n",
              "16134    ZZDJZMS X 2020-04-03\n",
              "16135    ZZDJZMS X 2020-04-04\n",
              "Name: Place_ID X Date, Length: 16136, dtype: object"
            ],
            "text/html": [
              "<div>\n",
              "<style scoped>\n",
              "    .dataframe tbody tr th:only-of-type {\n",
              "        vertical-align: middle;\n",
              "    }\n",
              "\n",
              "    .dataframe tbody tr th {\n",
              "        vertical-align: top;\n",
              "    }\n",
              "\n",
              "    .dataframe thead th {\n",
              "        text-align: right;\n",
              "    }\n",
              "</style>\n",
              "<table border=\"1\" class=\"dataframe\">\n",
              "  <thead>\n",
              "    <tr style=\"text-align: right;\">\n",
              "      <th></th>\n",
              "      <th>Place_ID X Date</th>\n",
              "    </tr>\n",
              "  </thead>\n",
              "  <tbody>\n",
              "    <tr>\n",
              "      <th>0</th>\n",
              "      <td>0OS9LVX X 2020-01-02</td>\n",
              "    </tr>\n",
              "    <tr>\n",
              "      <th>1</th>\n",
              "      <td>0OS9LVX X 2020-01-03</td>\n",
              "    </tr>\n",
              "    <tr>\n",
              "      <th>2</th>\n",
              "      <td>0OS9LVX X 2020-01-04</td>\n",
              "    </tr>\n",
              "    <tr>\n",
              "      <th>3</th>\n",
              "      <td>0OS9LVX X 2020-01-05</td>\n",
              "    </tr>\n",
              "    <tr>\n",
              "      <th>4</th>\n",
              "      <td>0OS9LVX X 2020-01-06</td>\n",
              "    </tr>\n",
              "    <tr>\n",
              "      <th>...</th>\n",
              "      <td>...</td>\n",
              "    </tr>\n",
              "    <tr>\n",
              "      <th>16131</th>\n",
              "      <td>ZZDJZMS X 2020-03-31</td>\n",
              "    </tr>\n",
              "    <tr>\n",
              "      <th>16132</th>\n",
              "      <td>ZZDJZMS X 2020-04-01</td>\n",
              "    </tr>\n",
              "    <tr>\n",
              "      <th>16133</th>\n",
              "      <td>ZZDJZMS X 2020-04-02</td>\n",
              "    </tr>\n",
              "    <tr>\n",
              "      <th>16134</th>\n",
              "      <td>ZZDJZMS X 2020-04-03</td>\n",
              "    </tr>\n",
              "    <tr>\n",
              "      <th>16135</th>\n",
              "      <td>ZZDJZMS X 2020-04-04</td>\n",
              "    </tr>\n",
              "  </tbody>\n",
              "</table>\n",
              "<p>16136 rows × 1 columns</p>\n",
              "</div><br><label><b>dtype:</b> object</label>"
            ]
          },
          "metadata": {},
          "execution_count": 9
        }
      ]
    },
    {
      "cell_type": "code",
      "source": [
        "test_data = wrangle(\"/content/Test.csv\")\n",
        "X_test_transformed = date_feature_extractor.transform(test_data)\n",
        "len(X_test_transformed.columns)"
      ],
      "metadata": {
        "colab": {
          "base_uri": "https://localhost:8080/"
        },
        "id": "U4ttHK5ZkFbY",
        "outputId": "e1efa1e2-8e27-4dfb-b428-2b0f23e8b632"
      },
      "execution_count": 10,
      "outputs": [
        {
          "output_type": "execute_result",
          "data": {
            "text/plain": [
              "44"
            ]
          },
          "metadata": {},
          "execution_count": 10
        }
      ]
    },
    {
      "cell_type": "markdown",
      "source": [
        "Check for collinearity"
      ],
      "metadata": {
        "id": "Em9oIgUK-iNf"
      }
    },
    {
      "cell_type": "code",
      "source": [
        "corr_matrix = X_train_transformed.select_dtypes(include='number').corr().abs()\n",
        "\n",
        "upper_tri = corr_matrix.where(np.triu(np.ones(corr_matrix.shape), k=1).astype(bool))\n",
        "\n",
        "high_corr_pairs = upper_tri.stack().sort_values(ascending=False).to_frame(name=\"correlation\")\n",
        "\n",
        "\n",
        "print(\"Top 30 most correlated pairs:\")\n",
        "print(high_corr_pairs.head(30))"
      ],
      "metadata": {
        "id": "J_q6Kdo3lws5",
        "colab": {
          "base_uri": "https://localhost:8080/"
        },
        "outputId": "9a7ec969-330c-4455-c4a4-e0ea2b9a8472"
      },
      "execution_count": 11,
      "outputs": [
        {
          "output_type": "stream",
          "name": "stdout",
          "text": [
            "Top 30 most correlated pairs:\n",
            "                                                                                                    correlation\n",
            "L3_HCHO_HCHO_slant_column_number_density           L3_HCHO_tropospheric_HCHO_column_number_density     0.894417\n",
            "precipitable_water_entire_atmosphere               specific_humidity_2m_above_ground                   0.882341\n",
            "L3_CLOUD_cloud_fraction                            L3_SO2_cloud_fraction                               0.877950\n",
            "L3_NO2_sensor_zenith_angle                         L3_O3_sensor_zenith_angle                           0.858282\n",
            "L3_NO2_cloud_fraction                              L3_CLOUD_cloud_fraction                             0.839613\n",
            "L3_SO2_SO2_column_number_density                   L3_SO2_SO2_slant_column_number_density              0.831505\n",
            "L3_NO2_solar_zenith_angle                          L3_AER_AI_solar_zenith_angle                        0.826709\n",
            "L3_O3_O3_effective_temperature                     L3_CO_sensor_altitude                               0.819816\n",
            "specific_humidity_2m_above_ground                  temperature_2m_above_ground                         0.816273\n",
            "precipitable_water_entire_atmosphere               L3_CO_H2O_column_number_density                     0.810725\n",
            "L3_NO2_NO2_column_number_density                   L3_NO2_NO2_slant_column_number_density              0.809811\n",
            "L3_HCHO_solar_azimuth_angle                        L3_AER_AI_solar_azimuth_angle                       0.796254\n",
            "L3_NO2_solar_azimuth_angle                         L3_AER_AI_solar_azimuth_angle                       0.789490\n",
            "L3_CO_solar_azimuth_angle                          L3_HCHO_solar_azimuth_angle                         0.784863\n",
            "L3_NO2_solar_zenith_angle                          L3_NO2_tropopause_pressure                          0.783220\n",
            "L3_CO_solar_azimuth_angle                          L3_AER_AI_solar_azimuth_angle                       0.773955\n",
            "L3_NO2_sensor_altitude                             L3_NO2_stratospheric_NO2_column_number_density      0.772791\n",
            "specific_humidity_2m_above_ground                  L3_CO_H2O_column_number_density                     0.768643\n",
            "L3_NO2_solar_azimuth_angle                         L3_HCHO_solar_azimuth_angle                         0.767130\n",
            "                                                   L3_CO_solar_azimuth_angle                           0.750242\n",
            "L3_NO2_cloud_fraction                              L3_SO2_cloud_fraction                               0.743887\n",
            "precipitable_water_entire_atmosphere               temperature_2m_above_ground                         0.733225\n",
            "L3_NO2_absorbing_aerosol_index                     L3_AER_AI_absorbing_aerosol_index                   0.730450\n",
            "L3_NO2_sensor_altitude                             L3_NO2_solar_zenith_angle                           0.729437\n",
            "L3_AER_AI_absorbing_aerosol_index                  L3_SO2_absorbing_aerosol_index                      0.700504\n",
            "temperature_2m_above_ground                        L3_AER_AI_solar_zenith_angle                        0.695437\n",
            "L3_HCHO_tropospheric_HCHO_column_number_density... L3_SO2_SO2_column_number_density_amf                0.667877\n",
            "L3_NO2_absorbing_aerosol_index                     L3_SO2_absorbing_aerosol_index                      0.659523\n",
            "temperature_2m_above_ground                        L3_CO_H2O_column_number_density                     0.650359\n",
            "L3_NO2_tropopause_pressure                         L3_O3_O3_column_number_density                      0.648475\n"
          ]
        }
      ]
    },
    {
      "cell_type": "markdown",
      "source": [
        "**Explanation of the Code Cell above**\n",
        "\n",
        "\n",
        "\n",
        "1.   np.ones was to convert the array into 1s\n",
        "\n",
        "2.   np.triu was to convert the ones into an upper triangle(upper triangle such that everything below the leading diagonal is 0) and this is to avoid repetition.\n",
        "\n",
        "3.   The \"k=1\" inside np.triu is equally to convert the leading diagonal to 0 because the leading diagonal is bascially correlation of a feature with itself and we don't need that.\n",
        "\n",
        "4.  upper_tri.stack() is to flatten the upper triangle into a Series\n",
        "\n",
        "5.  .to_frame(name=\"correlation\") is to convert our series(gotten from upper_tri.stack()) back to a DataFrame\n"
      ],
      "metadata": {
        "id": "jauAEfS8UrKf"
      }
    },
    {
      "cell_type": "code",
      "source": [
        "# Filter for highly correlated pairs\n",
        "high_corr_pairs = high_corr_pairs[high_corr_pairs[\"correlation\"] > 0.9]\n",
        "# Combine target temporarily for correlation\n",
        "X_temp = X_train_transformed.copy()\n",
        "X_temp[\"target\"] = y_train\n",
        "\n",
        "# Compute correlation of features with target\n",
        "feature_target_corr = X_temp.select_dtypes(include='number').corr()[\"target\"].abs().drop(\"target\")\n",
        "\n",
        "features_to_drop = set()\n",
        "\n",
        "for feature1, feature2 in high_corr_pairs.index:\n",
        "    if feature1 in features_to_drop or feature2 in features_to_drop:\n",
        "        continue\n",
        "    if feature_target_corr[feature1] >= feature_target_corr[feature2]:\n",
        "        features_to_drop.add(feature2)\n",
        "    else:\n",
        "        features_to_drop.add(feature1)\n",
        "\n",
        "print(\"Features to drop due to high correlation:\", features_to_drop)\n"
      ],
      "metadata": {
        "colab": {
          "base_uri": "https://localhost:8080/"
        },
        "id": "Eb04c-LP6iJY",
        "outputId": "a377c1bb-0fcd-41e6-ac5b-e8d78a6cfa44"
      },
      "execution_count": 12,
      "outputs": [
        {
          "output_type": "stream",
          "name": "stdout",
          "text": [
            "Features to drop due to high correlation: set()\n"
          ]
        }
      ]
    },
    {
      "cell_type": "code",
      "source": [
        "X_train_transformed.info()"
      ],
      "metadata": {
        "colab": {
          "base_uri": "https://localhost:8080/"
        },
        "id": "MspfwGxtemNZ",
        "outputId": "7a346929-81e8-4389-def6-957998a98028"
      },
      "execution_count": 13,
      "outputs": [
        {
          "output_type": "stream",
          "name": "stdout",
          "text": [
            "<class 'pandas.core.frame.DataFrame'>\n",
            "RangeIndex: 30557 entries, 0 to 30556\n",
            "Data columns (total 44 columns):\n",
            " #   Column                                               Non-Null Count  Dtype  \n",
            "---  ------                                               --------------  -----  \n",
            " 0   precipitable_water_entire_atmosphere                 30557 non-null  float64\n",
            " 1   relative_humidity_2m_above_ground                    30557 non-null  float64\n",
            " 2   specific_humidity_2m_above_ground                    30557 non-null  float64\n",
            " 3   temperature_2m_above_ground                          30557 non-null  float64\n",
            " 4   u_component_of_wind_10m_above_ground                 30557 non-null  float64\n",
            " 5   v_component_of_wind_10m_above_ground                 30557 non-null  float64\n",
            " 6   L3_NO2_NO2_column_number_density                     28368 non-null  float64\n",
            " 7   L3_NO2_NO2_slant_column_number_density               28368 non-null  float64\n",
            " 8   L3_NO2_absorbing_aerosol_index                       28368 non-null  float64\n",
            " 9   L3_NO2_cloud_fraction                                28368 non-null  float64\n",
            " 10  L3_NO2_sensor_altitude                               28368 non-null  float64\n",
            " 11  L3_NO2_sensor_zenith_angle                           28367 non-null  float64\n",
            " 12  L3_NO2_solar_azimuth_angle                           28367 non-null  float64\n",
            " 13  L3_NO2_solar_zenith_angle                            28367 non-null  float64\n",
            " 14  L3_NO2_stratospheric_NO2_column_number_density       28367 non-null  float64\n",
            " 15  L3_NO2_tropopause_pressure                           28367 non-null  float64\n",
            " 16  L3_O3_O3_column_number_density                       30274 non-null  float64\n",
            " 17  L3_O3_O3_effective_temperature                       30274 non-null  float64\n",
            " 18  L3_O3_sensor_zenith_angle                            30274 non-null  float64\n",
            " 19  L3_CO_CO_column_number_density                       25134 non-null  float64\n",
            " 20  L3_CO_H2O_column_number_density                      25134 non-null  float64\n",
            " 21  L3_CO_cloud_height                                   25134 non-null  float64\n",
            " 22  L3_CO_sensor_altitude                                25134 non-null  float64\n",
            " 23  L3_CO_solar_azimuth_angle                            25134 non-null  float64\n",
            " 24  L3_HCHO_HCHO_slant_column_number_density             23132 non-null  float64\n",
            " 25  L3_HCHO_solar_azimuth_angle                          23132 non-null  float64\n",
            " 26  L3_HCHO_tropospheric_HCHO_column_number_density      23132 non-null  float64\n",
            " 27  L3_HCHO_tropospheric_HCHO_column_number_density_amf  23132 non-null  float64\n",
            " 28  L3_CLOUD_cloud_fraction                              30183 non-null  float64\n",
            " 29  L3_CLOUD_cloud_optical_depth                         29035 non-null  float64\n",
            " 30  L3_CLOUD_cloud_top_pressure                          29035 non-null  float64\n",
            " 31  L3_CLOUD_surface_albedo                              29035 non-null  float64\n",
            " 32  L3_AER_AI_absorbing_aerosol_index                    30360 non-null  float64\n",
            " 33  L3_AER_AI_sensor_altitude                            30360 non-null  float64\n",
            " 34  L3_AER_AI_solar_azimuth_angle                        30360 non-null  float64\n",
            " 35  L3_AER_AI_solar_zenith_angle                         30360 non-null  float64\n",
            " 36  L3_SO2_SO2_column_number_density                     23320 non-null  float64\n",
            " 37  L3_SO2_SO2_column_number_density_amf                 23320 non-null  float64\n",
            " 38  L3_SO2_SO2_slant_column_number_density               23320 non-null  float64\n",
            " 39  L3_SO2_absorbing_aerosol_index                       23249 non-null  float64\n",
            " 40  L3_SO2_cloud_fraction                                23320 non-null  float64\n",
            " 41  L3_SO2_sensor_azimuth_angle                          23320 non-null  float64\n",
            " 42  month                                                30557 non-null  int32  \n",
            " 43  dayofweek                                            30557 non-null  int32  \n",
            "dtypes: float64(42), int32(2)\n",
            "memory usage: 10.0 MB\n"
          ]
        }
      ]
    },
    {
      "cell_type": "code",
      "source": [
        "preprocessor=preprocessor = Pipeline(steps=[\n",
        "    (\"date_features\", DateFeatureExtractor()),\n",
        "    (\"imputer\", SimpleImputer(strategy=\"mean\")),\n",
        "    (\"scaler\", StandardScaler())\n",
        "])\n"
      ],
      "metadata": {
        "id": "Eo_YC3QbpXqd"
      },
      "execution_count": 14,
      "outputs": []
    },
    {
      "cell_type": "markdown",
      "source": [],
      "metadata": {
        "id": "35OQgBjXEWe0"
      }
    },
    {
      "cell_type": "code",
      "source": [
        "model_pipeline = Pipeline(steps=[\n",
        "    (\"preprocessor\", preprocessor),\n",
        "    (\"model\", LinearRegression())\n",
        "])"
      ],
      "metadata": {
        "id": "hOkB5APdkPQL"
      },
      "execution_count": 15,
      "outputs": []
    },
    {
      "cell_type": "code",
      "source": [
        "model_pipeline.fit(X_train, y_train)\n",
        "predictions = model_pipeline.predict(test_data)\n"
      ],
      "metadata": {
        "id": "2DwJ88-6eeRd"
      },
      "execution_count": 16,
      "outputs": []
    },
    {
      "cell_type": "code",
      "source": [
        "predictions"
      ],
      "metadata": {
        "colab": {
          "base_uri": "https://localhost:8080/"
        },
        "id": "dmKVlAPKpsQR",
        "outputId": "c576c40f-36de-48ab-8b23-dd732b7da839"
      },
      "execution_count": 17,
      "outputs": [
        {
          "output_type": "execute_result",
          "data": {
            "text/plain": [
              "array([64.77100759, 45.8425694 , 42.34147917, ..., 31.10717808,\n",
              "       59.32297952, 69.51578169])"
            ]
          },
          "metadata": {},
          "execution_count": 17
        }
      ]
    },
    {
      "cell_type": "code",
      "source": [
        "sub=pd.read_csv(\"/content/SampleSubmission (1).csv\")\n",
        "sub[\"target\"]=predictions\n",
        "sub[\"Place_ID X Date\"]=place_date\n",
        "sub.to_csv(\"Urban_air_poll_submission.csv\",index=False)"
      ],
      "metadata": {
        "id": "WH0KTxg1qX0f"
      },
      "execution_count": 20,
      "outputs": []
    }
  ]
}